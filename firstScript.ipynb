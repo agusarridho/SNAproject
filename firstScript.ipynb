{
 "cells": [
  {
   "cell_type": "code",
   "execution_count": 3,
   "metadata": {
    "collapsed": true
   },
   "outputs": [],
   "source": [
    "import pandas as pd\n",
    "import numpy as np"
   ]
  },
  {
   "cell_type": "code",
   "execution_count": 12,
   "metadata": {
    "collapsed": false
   },
   "outputs": [],
   "source": [
    "users = pd.read_csv('Posts.csv')"
   ]
  },
  {
   "cell_type": "code",
   "execution_count": 13,
   "metadata": {
    "collapsed": false
   },
   "outputs": [
    {
     "data": {
      "text/html": [
       "<div>\n",
       "<table border=\"1\" class=\"dataframe\">\n",
       "  <thead>\n",
       "    <tr style=\"text-align: right;\">\n",
       "      <th></th>\n",
       "      <th>_Id</th>\n",
       "      <th>_PostTypeId</th>\n",
       "      <th>_AcceptedAnswerId</th>\n",
       "      <th>_ParentId</th>\n",
       "      <th>_CreationDate</th>\n",
       "      <th>_Score</th>\n",
       "      <th>_ViewCount</th>\n",
       "      <th>_Body</th>\n",
       "      <th>_OwnerUserId</th>\n",
       "      <th>_LastEditorUserId</th>\n",
       "      <th>_LastEditDate</th>\n",
       "      <th>_LastActivityDate</th>\n",
       "      <th>_Title</th>\n",
       "      <th>_Tags</th>\n",
       "      <th>_AnswerCount</th>\n",
       "      <th>_CommentCount</th>\n",
       "      <th>_FavoriteCount</th>\n",
       "    </tr>\n",
       "  </thead>\n",
       "  <tbody>\n",
       "    <tr>\n",
       "      <th>0</th>\n",
       "      <td>1</td>\n",
       "      <td>1</td>\n",
       "      <td>192</td>\n",
       "      <td>NaN</td>\n",
       "      <td>2012-02-08T20:02:48.790</td>\n",
       "      <td>10</td>\n",
       "      <td>896</td>\n",
       "      <td>&lt;p&gt;WAR (wins above replacement) is a statistic...</td>\n",
       "      <td>6</td>\n",
       "      <td>385</td>\n",
       "      <td>2012-11-01T14:38:47.603</td>\n",
       "      <td>2012-11-01T14:38:47.603</td>\n",
       "      <td>How is WAR defined as a baseball statistic?</td>\n",
       "      <td>&lt;baseball&gt;&lt;statistics&gt;&lt;sabermetrics&gt;</td>\n",
       "      <td>1</td>\n",
       "      <td>2</td>\n",
       "      <td>NaN</td>\n",
       "    </tr>\n",
       "    <tr>\n",
       "      <th>1</th>\n",
       "      <td>3</td>\n",
       "      <td>1</td>\n",
       "      <td>14</td>\n",
       "      <td>NaN</td>\n",
       "      <td>2012-02-08T20:11:02.963</td>\n",
       "      <td>43</td>\n",
       "      <td>4251</td>\n",
       "      <td>&lt;p&gt;The offside rule on the pitch is often uncl...</td>\n",
       "      <td>6</td>\n",
       "      <td>3286</td>\n",
       "      <td>2015-10-13T19:49:06.083</td>\n",
       "      <td>2016-03-03T08:17:48.563</td>\n",
       "      <td>How is offside determined in soccer?</td>\n",
       "      <td>&lt;football&gt;&lt;rules&gt;&lt;officiating&gt;</td>\n",
       "      <td>7</td>\n",
       "      <td>1</td>\n",
       "      <td>3</td>\n",
       "    </tr>\n",
       "  </tbody>\n",
       "</table>\n",
       "</div>"
      ],
      "text/plain": [
       "   _Id  _PostTypeId  _AcceptedAnswerId  _ParentId            _CreationDate  \\\n",
       "0    1            1                192        NaN  2012-02-08T20:02:48.790   \n",
       "1    3            1                 14        NaN  2012-02-08T20:11:02.963   \n",
       "\n",
       "   _Score  _ViewCount                                              _Body  \\\n",
       "0      10         896  <p>WAR (wins above replacement) is a statistic...   \n",
       "1      43        4251  <p>The offside rule on the pitch is often uncl...   \n",
       "\n",
       "   _OwnerUserId  _LastEditorUserId            _LastEditDate  \\\n",
       "0             6                385  2012-11-01T14:38:47.603   \n",
       "1             6               3286  2015-10-13T19:49:06.083   \n",
       "\n",
       "         _LastActivityDate                                       _Title  \\\n",
       "0  2012-11-01T14:38:47.603  How is WAR defined as a baseball statistic?   \n",
       "1  2016-03-03T08:17:48.563         How is offside determined in soccer?   \n",
       "\n",
       "                                  _Tags  _AnswerCount  _CommentCount  \\\n",
       "0  <baseball><statistics><sabermetrics>             1              2   \n",
       "1        <football><rules><officiating>             7              1   \n",
       "\n",
       "   _FavoriteCount  \n",
       "0             NaN  \n",
       "1               3  "
      ]
     },
     "execution_count": 13,
     "metadata": {},
     "output_type": "execute_result"
    }
   ],
   "source": [
    "users.head(2)"
   ]
  },
  {
   "cell_type": "code",
   "execution_count": null,
   "metadata": {
    "collapsed": true
   },
   "outputs": [],
   "source": []
  },
  {
   "cell_type": "code",
   "execution_count": null,
   "metadata": {
    "collapsed": true
   },
   "outputs": [],
   "source": []
  }
 ],
 "metadata": {
  "kernelspec": {
   "display_name": "Python 3",
   "language": "python",
   "name": "python3"
  },
  "language_info": {
   "codemirror_mode": {
    "name": "ipython",
    "version": 3
   },
   "file_extension": ".py",
   "mimetype": "text/x-python",
   "name": "python",
   "nbconvert_exporter": "python",
   "pygments_lexer": "ipython3",
   "version": "3.5.1"
  }
 },
 "nbformat": 4,
 "nbformat_minor": 0
}
