{
 "cells": [
  {
   "cell_type": "code",
   "execution_count": 13,
   "metadata": {
    "collapsed": true
   },
   "outputs": [],
   "source": [
    "import pandas as pd\n",
    "import seaborn as sns\n",
    "import matplotlib.pyplot as plt\n",
    "% matplotlib inline"
   ]
  },
  {
   "cell_type": "code",
   "execution_count": 3,
   "metadata": {
    "collapsed": false
   },
   "outputs": [],
   "source": [
    "data = pd.read_csv('Original/Posts.csv')"
   ]
  },
  {
   "cell_type": "code",
   "execution_count": 5,
   "metadata": {
    "collapsed": false
   },
   "outputs": [
    {
     "data": {
      "text/html": [
       "<div>\n",
       "<table border=\"1\" class=\"dataframe\">\n",
       "  <thead>\n",
       "    <tr style=\"text-align: right;\">\n",
       "      <th></th>\n",
       "      <th>_Id</th>\n",
       "      <th>_PostTypeId</th>\n",
       "      <th>_AcceptedAnswerId</th>\n",
       "      <th>_ParentId</th>\n",
       "      <th>_CreationDate</th>\n",
       "      <th>_Score</th>\n",
       "      <th>_ViewCount</th>\n",
       "      <th>_Body</th>\n",
       "      <th>_OwnerUserId</th>\n",
       "      <th>_LastEditorUserId</th>\n",
       "      <th>_LastEditDate</th>\n",
       "      <th>_LastActivityDate</th>\n",
       "      <th>_Title</th>\n",
       "      <th>_Tags</th>\n",
       "      <th>_AnswerCount</th>\n",
       "      <th>_CommentCount</th>\n",
       "      <th>_FavoriteCount</th>\n",
       "    </tr>\n",
       "  </thead>\n",
       "  <tbody>\n",
       "    <tr>\n",
       "      <th>0</th>\n",
       "      <td>1</td>\n",
       "      <td>1</td>\n",
       "      <td>192</td>\n",
       "      <td>NaN</td>\n",
       "      <td>2012-02-08T20:02:48.790</td>\n",
       "      <td>10</td>\n",
       "      <td>896</td>\n",
       "      <td>&lt;p&gt;WAR (wins above replacement) is a statistic...</td>\n",
       "      <td>6</td>\n",
       "      <td>385</td>\n",
       "      <td>2012-11-01T14:38:47.603</td>\n",
       "      <td>2012-11-01T14:38:47.603</td>\n",
       "      <td>How is WAR defined as a baseball statistic?</td>\n",
       "      <td>&lt;baseball&gt;&lt;statistics&gt;&lt;sabermetrics&gt;</td>\n",
       "      <td>1</td>\n",
       "      <td>2</td>\n",
       "      <td>NaN</td>\n",
       "    </tr>\n",
       "  </tbody>\n",
       "</table>\n",
       "</div>"
      ],
      "text/plain": [
       "   _Id  _PostTypeId  _AcceptedAnswerId  _ParentId            _CreationDate  \\\n",
       "0    1            1                192        NaN  2012-02-08T20:02:48.790   \n",
       "\n",
       "   _Score  _ViewCount                                              _Body  \\\n",
       "0      10         896  <p>WAR (wins above replacement) is a statistic...   \n",
       "\n",
       "   _OwnerUserId  _LastEditorUserId            _LastEditDate  \\\n",
       "0             6                385  2012-11-01T14:38:47.603   \n",
       "\n",
       "         _LastActivityDate                                       _Title  \\\n",
       "0  2012-11-01T14:38:47.603  How is WAR defined as a baseball statistic?   \n",
       "\n",
       "                                  _Tags  _AnswerCount  _CommentCount  \\\n",
       "0  <baseball><statistics><sabermetrics>             1              2   \n",
       "\n",
       "   _FavoriteCount  \n",
       "0             NaN  "
      ]
     },
     "execution_count": 5,
     "metadata": {},
     "output_type": "execute_result"
    }
   ],
   "source": [
    "data.head(1)"
   ]
  },
  {
   "cell_type": "code",
   "execution_count": 15,
   "metadata": {
    "collapsed": false
   },
   "outputs": [],
   "source": [
    "data = data.set_index(pd.DatetimeIndex(data['_CreationDate']))\n",
    "byDay = data._Id.resample('M', how='count')"
   ]
  },
  {
   "cell_type": "code",
   "execution_count": 20,
   "metadata": {
    "collapsed": false
   },
   "outputs": [
    {
     "data": {
      "text/plain": [
       "2016-02-29    171\n",
       "2016-03-31     24\n",
       "Freq: M, Name: _Id, dtype: int64"
      ]
     },
     "execution_count": 20,
     "metadata": {},
     "output_type": "execute_result"
    }
   ],
   "source": [
    "byDay.tail(2)"
   ]
  },
  {
   "cell_type": "code",
   "execution_count": 19,
   "metadata": {
    "collapsed": false
   },
   "outputs": [
    {
     "data": {
      "image/png": "[encoded data removed]",
      "text/plain": [
       "<matplotlib.figure.Figure at 0x10d128a20>"
      ]
     },
     "metadata": {},
     "output_type": "display_data"
    }
   ],
   "source": [
    "fig = plt.figure(figsize=(22, 5), dpi=100)\n",
    "ax = fig.add_subplot(111)\n",
    "plt.plot(byDay)\n",
    "plt.title('Number of posts by month', fontsize = 20);"
   ]
  },
  {
   "cell_type": "markdown",
   "metadata": {
    "collapsed": false
   },
   "source": [
    "## data[data._TagName == 'baseball']"
   ]
  },
  {
   "cell_type": "code",
   "execution_count": 21,
   "metadata": {
    "collapsed": false
   },
   "outputs": [
    {
     "data": {
      "text/html": [
       "<div>\n",
       "<table border=\"1\" class=\"dataframe\">\n",
       "  <thead>\n",
       "    <tr style=\"text-align: right;\">\n",
       "      <th></th>\n",
       "      <th>_Id</th>\n",
       "      <th>_PostTypeId</th>\n",
       "      <th>_AcceptedAnswerId</th>\n",
       "      <th>_ParentId</th>\n",
       "      <th>_CreationDate</th>\n",
       "      <th>_Score</th>\n",
       "      <th>_ViewCount</th>\n",
       "      <th>_Body</th>\n",
       "      <th>_OwnerUserId</th>\n",
       "      <th>_LastEditorUserId</th>\n",
       "      <th>_LastEditDate</th>\n",
       "      <th>_LastActivityDate</th>\n",
       "      <th>_Title</th>\n",
       "      <th>_Tags</th>\n",
       "      <th>_AnswerCount</th>\n",
       "      <th>_CommentCount</th>\n",
       "      <th>_FavoriteCount</th>\n",
       "    </tr>\n",
       "  </thead>\n",
       "  <tbody>\n",
       "    <tr>\n",
       "      <th>2016-03-05 14:20:44.397</th>\n",
       "      <td>13245</td>\n",
       "      <td>2</td>\n",
       "      <td>NaN</td>\n",
       "      <td>3904</td>\n",
       "      <td>2016-03-05T14:20:44.397</td>\n",
       "      <td>1</td>\n",
       "      <td>NaN</td>\n",
       "      <td>&lt;p&gt;&lt;strong&gt;Shooting&lt;/strong&gt;&lt;/p&gt;\\r\\n\\r\\n&lt;p&gt;Fro...</td>\n",
       "      <td>1831</td>\n",
       "      <td>NaN</td>\n",
       "      <td>NaN</td>\n",
       "      <td>2016-03-05T14:20:44.397</td>\n",
       "      <td>NaN</td>\n",
       "      <td>NaN</td>\n",
       "      <td>NaN</td>\n",
       "      <td>0</td>\n",
       "      <td>NaN</td>\n",
       "    </tr>\n",
       "    <tr>\n",
       "      <th>2016-03-05 19:00:34.707</th>\n",
       "      <td>13246</td>\n",
       "      <td>2</td>\n",
       "      <td>NaN</td>\n",
       "      <td>2307</td>\n",
       "      <td>2016-03-05T19:00:34.707</td>\n",
       "      <td>-1</td>\n",
       "      <td>NaN</td>\n",
       "      <td>&lt;p&gt;These days stump out has become an obvious ...</td>\n",
       "      <td>10955</td>\n",
       "      <td>NaN</td>\n",
       "      <td>NaN</td>\n",
       "      <td>2016-03-05T19:00:34.707</td>\n",
       "      <td>NaN</td>\n",
       "      <td>NaN</td>\n",
       "      <td>NaN</td>\n",
       "      <td>0</td>\n",
       "      <td>NaN</td>\n",
       "    </tr>\n",
       "  </tbody>\n",
       "</table>\n",
       "</div>"
      ],
      "text/plain": [
       "                           _Id  _PostTypeId  _AcceptedAnswerId  _ParentId  \\\n",
       "2016-03-05 14:20:44.397  13245            2                NaN       3904   \n",
       "2016-03-05 19:00:34.707  13246            2                NaN       2307   \n",
       "\n",
       "                                   _CreationDate  _Score  _ViewCount  \\\n",
       "2016-03-05 14:20:44.397  2016-03-05T14:20:44.397       1         NaN   \n",
       "2016-03-05 19:00:34.707  2016-03-05T19:00:34.707      -1         NaN   \n",
       "\n",
       "                                                                     _Body  \\\n",
       "2016-03-05 14:20:44.397  <p><strong>Shooting</strong></p>\\r\\n\\r\\n<p>Fro...   \n",
       "2016-03-05 19:00:34.707  <p>These days stump out has become an obvious ...   \n",
       "\n",
       "                         _OwnerUserId  _LastEditorUserId _LastEditDate  \\\n",
       "2016-03-05 14:20:44.397          1831                NaN           NaN   \n",
       "2016-03-05 19:00:34.707         10955                NaN           NaN   \n",
       "\n",
       "                               _LastActivityDate _Title _Tags  _AnswerCount  \\\n",
       "2016-03-05 14:20:44.397  2016-03-05T14:20:44.397    NaN   NaN           NaN   \n",
       "2016-03-05 19:00:34.707  2016-03-05T19:00:34.707    NaN   NaN           NaN   \n",
       "\n",
       "                         _CommentCount  _FavoriteCount  \n",
       "2016-03-05 14:20:44.397              0             NaN  \n",
       "2016-03-05 19:00:34.707              0             NaN  "
      ]
     },
     "execution_count": 21,
     "metadata": {},
     "output_type": "execute_result"
    }
   ],
   "source": [
    "data.tail(2)"
   ]
  },
  {
   "cell_type": "code",
   "execution_count": null,
   "metadata": {
    "collapsed": true
   },
   "outputs": [],
   "source": []
  }
 ],
 "metadata": {
  "kernelspec": {
   "display_name": "Python 3",
   "language": "python",
   "name": "python3"
  },
  "language_info": {
   "codemirror_mode": {
    "name": "ipython",
    "version": 3
   },
   "file_extension": ".py",
   "mimetype": "text/x-python",
   "name": "python",
   "nbconvert_exporter": "python",
   "pygments_lexer": "ipython3",
   "version": "3.4.4"
  }
 },
 "nbformat": 4,
 "nbformat_minor": 0
}
